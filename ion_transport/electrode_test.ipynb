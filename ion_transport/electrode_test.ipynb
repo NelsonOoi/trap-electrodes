{
 "cells": [
  {
   "cell_type": "code",
   "execution_count": 1,
   "id": "86d0d795-d7af-4bc6-bc31-0b532b730708",
   "metadata": {},
   "outputs": [],
   "source": [
    "import magpylib as magpy"
   ]
  },
  {
   "cell_type": "code",
   "execution_count": null,
   "id": "6b1af5e3-f649-4265-854a-5592fb196845",
   "metadata": {},
   "outputs": [],
   "source": []
  }
 ],
 "metadata": {
  "kernelspec": {
   "display_name": "Python 3 (ipykernel)",
   "language": "python",
   "name": "python3"
  },
  "language_info": {
   "codemirror_mode": {
    "name": "ipython",
    "version": 3
   },
   "file_extension": ".py",
   "mimetype": "text/x-python",
   "name": "python",
   "nbconvert_exporter": "python",
   "pygments_lexer": "ipython3",
   "version": "3.11.4"
  }
 },
 "nbformat": 4,
 "nbformat_minor": 5
}
